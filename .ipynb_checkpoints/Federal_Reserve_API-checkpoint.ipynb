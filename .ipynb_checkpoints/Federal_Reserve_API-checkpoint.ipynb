{
 "cells": [
  {
   "cell_type": "code",
   "execution_count": 5,
   "id": "ddd9d885-afdc-45bf-9545-f3257b573300",
   "metadata": {},
   "outputs": [],
   "source": [
    "from pprint import pprint\n",
    "import requests"
   ]
  },
  {
   "cell_type": "code",
   "execution_count": 6,
   "id": "120b3898-7a3f-4bb6-8837-b0f83a0f695b",
   "metadata": {},
   "outputs": [],
   "source": [
    "api_key = 'api_key=a0afbf297519c34e947af3508e0688f5'"
   ]
  },
  {
   "cell_type": "code",
   "execution_count": null,
   "id": "a48afc06-edf0-4ff0-8d40-559bc050ab93",
   "metadata": {},
   "outputs": [],
   "source": [
    "Federal_Reserve_Time_Series_Endpoint = 'https://api.stlouisfed.org/fred/series/observations?'\n",
    "# Series ID:\n",
    "    # The type of data to return.\n",
    "\n",
    "# Returns CPI data.\n",
    "series_id_CPI = 'series_id=CPIAUCNS'\n",
    "\n",
    "# Returns US 10 year treasury bond yield data.\n",
    "series_id_Treasury_Bond_Yield = 'series_id=DGS10'\n",
    "\n",
    "# 10-Year Treasury Constant Maturity Rate: DGS10\n",
    "# 5-Year Treasury Constant Maturity Rate: DGS5\n",
    "# 4-Year Treasury Constant Maturity Rate: DGS4\n",
    "# 3-Year Treasury Constant Maturity Rate: DGS3\n",
    "# 2-Year Treasury Constant Maturity Rate: DGS2\n",
    "# 1-Year Treasury Constant Maturity Rate: DGS1\n",
    "\n",
    "# Returns target federal funding base rates.\n",
    "series_id_FedRate = 'series_id=FEDFUNDS'\n",
    "\n",
    "# Determines which output type.\n",
    "file_type = 'file_type=json'\n",
    "\n",
    "# limit\n",
    "# The maximum number of results to return.\n",
    "\n",
    "# integer between 1 and 1000, optional, default: 1000"
   ]
  },
  {
   "cell_type": "code",
   "execution_count": null,
   "id": "4daffa9b-adb3-4152-a67b-0fd1b0e747c2",
   "metadata": {},
   "outputs": [],
   "source": [
    "url = f'{Federal_Reserve_Time_Series_Endpoint}{series_id}&{api_key}&{file_type}'\n",
    "\n",
    "response = requests.get(url).json()\n",
    "response\n",
    "\n",
    "# Example:\n",
    "# series_id=GNPCA&api_key=abcdefghijklmnopqrstuvwxyz123456&file_type=json'"
   ]
  },
  {
   "cell_type": "code",
   "execution_count": null,
   "id": "156638fc-cdc0-4c6c-9578-0dc9e20285d8",
   "metadata": {},
   "outputs": [],
   "source": []
  }
 ],
 "metadata": {
  "kernelspec": {
   "display_name": "Python 3 (ipykernel)",
   "language": "python",
   "name": "python3"
  },
  "language_info": {
   "codemirror_mode": {
    "name": "ipython",
    "version": 3
   },
   "file_extension": ".py",
   "mimetype": "text/x-python",
   "name": "python",
   "nbconvert_exporter": "python",
   "pygments_lexer": "ipython3",
   "version": "3.11.7"
  }
 },
 "nbformat": 4,
 "nbformat_minor": 5
}
