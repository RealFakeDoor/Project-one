{
 "cells": [
  {
   "cell_type": "code",
   "execution_count": null,
   "id": "02617031-d10c-497b-8260-310a3db3fbb4",
   "metadata": {},
   "outputs": [],
   "source": [
    "import requests\n",
    "from pprint import pprint\n",
    "import nasdaqdatalink"
   ]
  },
  {
   "cell_type": "code",
   "execution_count": null,
   "id": "944a8133-5fab-4aa5-bec6-5d860725b429",
   "metadata": {},
   "outputs": [],
   "source": [
    "mydata = nasdaqdatalink.get(\"FRED/GDP\")\n",
    "\n",
    "api_key = 'QSxyVmdbhYCzApjnrz58'\n",
    "\n",
    "pprint(mydata)"
   ]
  },
  {
   "cell_type": "code",
   "execution_count": null,
   "id": "9b436fe2-4e53-48dc-8979-439ae6afe550",
   "metadata": {},
   "outputs": [],
   "source": [
    "# url = 'https://data.nasdaq.com/api/v3/datasets/OPEC/ORB.json'\n",
    "\n",
    "symbol = 'AAPL'\n",
    "\n",
    "url = f'https://api.nasdaq.com/api/quote/{symbol}/historical'\n",
    "\n",
    "response = requests.get(url).json()"
   ]
  },
  {
   "cell_type": "code",
   "execution_count": null,
   "id": "8dcbe07d-a616-46c6-848d-cd4fc14e33e7",
   "metadata": {},
   "outputs": [],
   "source": [
    "pprint(response)"
   ]
  },
  {
   "cell_type": "code",
   "execution_count": null,
   "id": "f8aaa283-7c09-4256-9ad9-3a8cad3da011",
   "metadata": {},
   "outputs": [],
   "source": []
  }
 ],
 "metadata": {
  "kernelspec": {
   "display_name": "Python 3 (ipykernel)",
   "language": "python",
   "name": "python3"
  },
  "language_info": {
   "codemirror_mode": {
    "name": "ipython",
    "version": 3
   },
   "file_extension": ".py",
   "mimetype": "text/x-python",
   "name": "python",
   "nbconvert_exporter": "python",
   "pygments_lexer": "ipython3",
   "version": "3.11.7"
  }
 },
 "nbformat": 4,
 "nbformat_minor": 5
}
