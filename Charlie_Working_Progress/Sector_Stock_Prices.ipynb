{
 "cells": [
  {
   "cell_type": "code",
   "execution_count": 11,
   "id": "55d8eb3b-d6c5-48ed-8245-aa2d4cf38ff5",
   "metadata": {},
   "outputs": [],
   "source": [
    "from pprint import pprint\n",
    "import requests"
   ]
  },
  {
   "cell_type": "code",
   "execution_count": 15,
   "id": "35bcb2cb-2814-4c7f-be14-4547e92628cd",
   "metadata": {},
   "outputs": [
    {
     "name": "stdout",
     "output_type": "stream",
     "text": [
      "2023-10-10\n"
     ]
    }
   ],
   "source": [
    "Dates_TO_FROM_Dict = {'From':'2023-10-10', 'To':'2023-12-10'}\n",
    "\n",
    "Tickers_Dict = {\n",
    "    'Energy':                     ['XLE'],\n",
    "    'Materials':                  ['XLB'],\n",
    "    'Industrials':                ['XLI'],\n",
    "    'Consumer Discretionary':     ['XLY'],\n",
    "    'Consumer Staples':           ['XLP'],\n",
    "    'Health Care':                ['XLV'],\n",
    "    'Financials':                 ['XLF'],\n",
    "    'Information Technology':     ['XLK'],\n",
    "    'Telecommunication Services': ['VOX'],\n",
    "    'Utilities':                  ['XLU'],\n",
    "    'Real Estate':                ['XLRE']\n",
    "}\n",
    "sector_list = list(Tickers_Dict.keys())\n",
    "\n",
    "print(Dates_TO_FROM_Dict['From'])"
   ]
  },
  {
   "cell_type": "code",
   "execution_count": 33,
   "id": "32469ff2-5fc3-4337-abe4-56abbdb66844",
   "metadata": {
    "collapsed": true,
    "jupyter": {
     "outputs_hidden": true
    }
   },
   "outputs": [
    {
     "name": "stdout",
     "output_type": "stream",
     "text": [
      "[{'adjClose': 88.03,\n",
      "  'change': 0.5,\n",
      "  'changeOverTime': 0.0056123,\n",
      "  'changePercent': 0.56123,\n",
      "  'close': 89.59,\n",
      "  'date': '2023-10-13',\n",
      "  'high': 90.02,\n",
      "  'label': 'October 13, 23',\n",
      "  'low': 88.71,\n",
      "  'open': 89.09,\n",
      "  'unadjustedVolume': 24266126,\n",
      "  'volume': 24266126,\n",
      "  'vwap': 89.3525},\n",
      " {'adjClose': 86.13,\n",
      "  'change': -0.83,\n",
      "  'changeOverTime': -0.0093796,\n",
      "  'changePercent': -0.93796,\n",
      "  'close': 87.66,\n",
      "  'date': '2023-10-12',\n",
      "  'high': 88.57,\n",
      "  'label': 'October 12, 23',\n",
      "  'low': 87.25,\n",
      "  'open': 88.49,\n",
      "  'unadjustedVolume': 19993223,\n",
      "  'volume': 19993223,\n",
      "  'vwap': 87.9925},\n",
      " {'adjClose': 86.03,\n",
      "  'change': -0.23,\n",
      "  'changeOverTime': -0.0026199,\n",
      "  'changePercent': -0.26199,\n",
      "  'close': 87.56,\n",
      "  'date': '2023-10-11',\n",
      "  'high': 87.88,\n",
      "  'label': 'October 11, 23',\n",
      "  'low': 86.55,\n",
      "  'open': 87.79,\n",
      "  'unadjustedVolume': 23572661,\n",
      "  'volume': 23572661,\n",
      "  'vwap': 87.445},\n",
      " {'adjClose': 87.15,\n",
      "  'change': 0.03,\n",
      "  'changeOverTime': 0.0003383331,\n",
      "  'changePercent': 0.03383331,\n",
      "  'close': 88.7,\n",
      "  'date': '2023-10-10',\n",
      "  'high': 89.29,\n",
      "  'label': 'October 10, 23',\n",
      "  'low': 88.17,\n",
      "  'open': 88.67,\n",
      "  'unadjustedVolume': 20850253,\n",
      "  'volume': 20850253,\n",
      "  'vwap': 88.7075}]\n"
     ]
    }
   ],
   "source": [
    "api_key = 'apikey=VI8Ta4kXzXofj5D5utQFSgtNViJBWnFb'\n",
    "Ticker = 'XLE'\n",
    "\n",
    "Daily_Historial_Price_API = 'https://financialmodelingprep.com/api/v3/historical-price-full/'\n",
    "# from    date    2023-10-10\n",
    "# to      date    2023-12-10\n",
    "From = '2023-10-10'\n",
    "To   = '2023-10-15'\n",
    "\n",
    "url = f'{Daily_Historial_Price_API}{Ticker}?from={From}&to={To}&{api_key}'\n",
    "\n",
    "response = requests.get(url).json()\n",
    "pprint(response['historical'])"
   ]
  },
  {
   "cell_type": "code",
   "execution_count": 37,
   "id": "c09590f0-196a-461f-b7c7-4263efe54de4",
   "metadata": {
    "collapsed": true,
    "jupyter": {
     "outputs_hidden": true
    }
   },
   "outputs": [
    {
     "name": "stdout",
     "output_type": "stream",
     "text": [
      "XLE\n",
      "89.59\n",
      "87.66\n",
      "87.56\n",
      "88.7\n",
      "XLB\n",
      "77.64\n",
      "77.93\n",
      "79.11\n",
      "78.92\n",
      "XLI\n",
      "101.75\n",
      "102.66\n",
      "103.6\n",
      "102.98\n",
      "XLY\n",
      "158.97\n",
      "161.34\n",
      "163.12\n",
      "162.54\n",
      "XLP\n",
      "66.8\n",
      "66.22\n",
      "66.95\n",
      "67.41\n",
      "XLV\n",
      "130.19\n",
      "129.38\n",
      "130.5\n",
      "131.08\n",
      "XLF\n",
      "33.21\n",
      "33.14\n",
      "33.35\n",
      "33.3\n",
      "XLK\n",
      "168.63\n",
      "171.08\n",
      "170.92\n",
      "169.35\n",
      "VOX\n",
      "106.97\n",
      "108.38\n",
      "109.66\n",
      "108.85\n",
      "XLU\n",
      "59.3\n",
      "58.64\n",
      "59.56\n",
      "58.61\n",
      "XLRE\n",
      "34.34\n",
      "34.35\n",
      "34.81\n",
      "34.12\n"
     ]
    }
   ],
   "source": [
    "for sector in sector_list:\n",
    "    Ticker = Tickers_Dict[sector][0]\n",
    "    print(f'{Tickers_Dict[sector][0]}')\n",
    "    url = f'{Daily_Historial_Price_API}{Ticker}?from={From}&to={To}&{api_key}'\n",
    "    response = requests.get(url).json()\n",
    "    for i in range(0, len(response['historical'])):\n",
    "        print(response['historical'][i]['close'])"
   ]
  }
 ],
 "metadata": {
  "kernelspec": {
   "display_name": "Python 3 (ipykernel)",
   "language": "python",
   "name": "python3"
  },
  "language_info": {
   "codemirror_mode": {
    "name": "ipython",
    "version": 3
   },
   "file_extension": ".py",
   "mimetype": "text/x-python",
   "name": "python",
   "nbconvert_exporter": "python",
   "pygments_lexer": "ipython3",
   "version": "3.11.7"
  }
 },
 "nbformat": 4,
 "nbformat_minor": 5
}
