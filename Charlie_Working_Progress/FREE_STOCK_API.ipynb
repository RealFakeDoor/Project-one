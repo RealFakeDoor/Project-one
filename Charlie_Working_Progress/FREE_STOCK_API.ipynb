{
 "cells": [
  {
   "cell_type": "code",
   "execution_count": 11,
   "id": "972a3b90-a286-4b23-b28e-5c7c524855f4",
   "metadata": {},
   "outputs": [],
   "source": [
    "from pprint import pprint\n",
    "import requests\n",
    "\n",
    "api_key = 'apikey=VI8Ta4kXzXofj5D5utQFSgtNViJBWnFb'"
   ]
  },
  {
   "cell_type": "code",
   "execution_count": 12,
   "id": "c92eda78-e674-416c-b63f-d0ae7f760d54",
   "metadata": {},
   "outputs": [
    {
     "name": "stdout",
     "output_type": "stream",
     "text": [
      "'apikey=VI8Ta4kXzXofj5D5utQFSgtNViJBWnFb'\n"
     ]
    }
   ],
   "source": [
    "pprint(api_key)"
   ]
  },
  {
   "cell_type": "code",
   "execution_count": 31,
   "id": "dc8470cc-676f-49fc-84b8-50a18353baab",
   "metadata": {},
   "outputs": [],
   "source": [
    "Company_Profile_ENDPOINT = 'https://financialmodelingprep.com/api/v3/profile/'\n",
    "\n",
    "# https://financialmodelingprep.com/api/v3/profile/AAPL\n",
    "\n",
    "Financial_Statement_Endpoint ='https://financialmodelingprep.com/api/v3/income-statement/'\n",
    "\n",
    "GDP_Endpoint = \"https://financialmodelingprep.com/api/v4/economic?name=GDP\"\n",
    "\n",
    "Treasury_Rate_Endpoint = \"https://financialmodelingprep.com/api/v4/treasury?from=2023-08-10&to=2023-10-10\"\n",
    "\n",
    "Historical_Earnings_Endpoint = 'https://financialmodelingprep.com/api/v3/historical/earning_calendar/AAPL&apikey=VI8Ta4kXzXofj5D5utQFSgtNViJBWnFb'"
   ]
  },
  {
   "cell_type": "code",
   "execution_count": 32,
   "id": "f733cfc2-92fa-43a2-8640-f5a9854ca0c4",
   "metadata": {},
   "outputs": [],
   "source": [
    "LIST_STOCK_TICKERS = ['AAPL','MSFT']"
   ]
  },
  {
   "cell_type": "code",
   "execution_count": 33,
   "id": "8036a45a-0dd3-4b03-b9e4-b0bc4a0d1540",
   "metadata": {},
   "outputs": [],
   "source": [
    "Ticker = 'AAPL?'"
   ]
  },
  {
   "cell_type": "code",
   "execution_count": 37,
   "id": "37570b95-0e58-4849-a2dd-69dfc9776292",
   "metadata": {
    "collapsed": true,
    "jupyter": {
     "outputs_hidden": true
    }
   },
   "outputs": [
    {
     "data": {
      "text/plain": [
       "[{'symbol': 'AAPL',\n",
       "  'price': 168.84,\n",
       "  'beta': 1.289,\n",
       "  'volAvg': 61281215,\n",
       "  'mktCap': 2607210396000,\n",
       "  'lastDiv': 0.96,\n",
       "  'range': '159.78-199.62',\n",
       "  'changes': -1.19,\n",
       "  'companyName': 'Apple Inc.',\n",
       "  'currency': 'USD',\n",
       "  'cik': '0000320193',\n",
       "  'isin': 'US0378331005',\n",
       "  'cusip': '037833100',\n",
       "  'exchange': 'NASDAQ Global Select',\n",
       "  'exchangeShortName': 'NASDAQ',\n",
       "  'industry': 'Consumer Electronics',\n",
       "  'website': 'https://www.apple.com',\n",
       "  'description': 'Apple Inc. designs, manufactures, and markets smartphones, personal computers, tablets, wearables, and accessories worldwide. The company offers iPhone, a line of smartphones; Mac, a line of personal computers; iPad, a line of multi-purpose tablets; and wearables, home, and accessories comprising AirPods, Apple TV, Apple Watch, Beats products, and HomePod. It also provides AppleCare support and cloud services; and operates various platforms, including the App Store that allow customers to discover and download applications and digital content, such as books, music, video, games, and podcasts. In addition, the company offers various services, such as Apple Arcade, a game subscription service; Apple Fitness+, a personalized fitness service; Apple Music, which offers users a curated listening experience with on-demand radio stations; Apple News+, a subscription news and magazine service; Apple TV+, which offers exclusive original content; Apple Card, a co-branded credit card; and Apple Pay, a cashless payment service, as well as licenses its intellectual property. The company serves consumers, and small and mid-sized businesses; and the education, enterprise, and government markets. It distributes third-party applications for its products through the App Store. The company also sells its products through its retail and online stores, and direct sales force; and third-party cellular network carriers, wholesalers, retailers, and resellers. Apple Inc. was incorporated in 1977 and is headquartered in Cupertino, California.',\n",
       "  'ceo': 'Mr. Timothy D. Cook',\n",
       "  'sector': 'Technology',\n",
       "  'country': 'US',\n",
       "  'fullTimeEmployees': '161000',\n",
       "  'phone': '408 996 1010',\n",
       "  'address': 'One Apple Park Way',\n",
       "  'city': 'Cupertino',\n",
       "  'state': 'CA',\n",
       "  'zip': '95014',\n",
       "  'dcfDiff': 32.67475,\n",
       "  'dcf': 136.31514609585167,\n",
       "  'image': 'https://financialmodelingprep.com/image-stock/AAPL.png',\n",
       "  'ipoDate': '1980-12-12',\n",
       "  'defaultImage': False,\n",
       "  'isEtf': False,\n",
       "  'isActivelyTrading': True,\n",
       "  'isAdr': False,\n",
       "  'isFund': False}]"
      ]
     },
     "execution_count": 37,
     "metadata": {},
     "output_type": "execute_result"
    }
   ],
   "source": [
    "url = f'{Company_Profile_ENDPOINT}{Ticker}&{api_key}'\n",
    "\n",
    "response = requests.get(url).json()\n",
    "# response = requests.get(f'{Historical_Earnings_Endpoint}&{api_key}').json()\n",
    "# response = requests.get(Historical_Earnings_Endpoint).json()\n",
    "response"
   ]
  },
  {
   "cell_type": "code",
   "execution_count": 29,
   "id": "0ee876d4-92d7-4b95-bcac-7d12479213e0",
   "metadata": {},
   "outputs": [
    {
     "ename": "IndexError",
     "evalue": "list index out of range",
     "output_type": "error",
     "traceback": [
      "\u001b[1;31m---------------------------------------------------------------------------\u001b[0m",
      "\u001b[1;31mIndexError\u001b[0m                                Traceback (most recent call last)",
      "Cell \u001b[1;32mIn[29], line 1\u001b[0m\n\u001b[1;32m----> 1\u001b[0m NetIncome \u001b[38;5;241m=\u001b[39m response[\u001b[38;5;241m0\u001b[39m][\u001b[38;5;124m'\u001b[39m\u001b[38;5;124mnetIncome\u001b[39m\u001b[38;5;124m'\u001b[39m]\n\u001b[0;32m      2\u001b[0m NetIncome\n",
      "\u001b[1;31mIndexError\u001b[0m: list index out of range"
     ]
    }
   ],
   "source": [
    "NetIncome = response[0]['netIncome']\n",
    "NetIncome"
   ]
  },
  {
   "cell_type": "raw",
   "id": "ad4f10c4-9809-4e2e-aea8-17a453c01fa6",
   "metadata": {},
   "source": [
    "pprint(response)"
   ]
  },
  {
   "cell_type": "code",
   "execution_count": null,
   "id": "37a7cd60-5e32-4f17-9a23-e73fd5a3e971",
   "metadata": {},
   "outputs": [],
   "source": []
  }
 ],
 "metadata": {
  "kernelspec": {
   "display_name": "Python 3 (ipykernel)",
   "language": "python",
   "name": "python3"
  },
  "language_info": {
   "codemirror_mode": {
    "name": "ipython",
    "version": 3
   },
   "file_extension": ".py",
   "mimetype": "text/x-python",
   "name": "python",
   "nbconvert_exporter": "python",
   "pygments_lexer": "ipython3",
   "version": "3.11.7"
  }
 },
 "nbformat": 4,
 "nbformat_minor": 5
}
