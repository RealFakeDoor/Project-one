{
 "cells": [
  {
   "cell_type": "code",
   "execution_count": 3,
   "id": "0438342d-d11a-472b-af2b-b6d5e27f4359",
   "metadata": {},
   "outputs": [],
   "source": [
    "from pprint import pprint\n",
    "import requests\n",
    "import pandas as pd\n",
    "\n",
    " # mid-2004 to mid-2006\n",
    "\n",
    "# 'Energy':                     ['XLE']\n",
    "Ticker = 'XLE'\n",
    "\n",
    "api_key = '6614c3fdbbe0a3.51273523'\n"
   ]
  },
  {
   "cell_type": "code",
   "execution_count": 4,
   "id": "68c58fbf-835e-4db1-ada7-6a5411f33f7a",
   "metadata": {},
   "outputs": [],
   "source": [
    "url = f'https://eodhd.com/api/eod/{Ticker}.US?from=2004-01-05&to=2009-01-01&period=w&api_token={api_key}&fmt=csv'"
   ]
  },
  {
   "cell_type": "code",
   "execution_count": 5,
   "id": "74510af9-32d3-409a-a8ba-ac5c9f883607",
   "metadata": {},
   "outputs": [
    {
     "data": {
      "text/plain": [
       "<Response [200]>"
      ]
     },
     "execution_count": 5,
     "metadata": {},
     "output_type": "execute_result"
    }
   ],
   "source": [
    "response = requests.get(url)\n",
    "response"
   ]
  },
  {
   "cell_type": "code",
   "execution_count": null,
   "id": "cdb0d9a7-7e3a-4bdc-8e50-d7c57c083b2d",
   "metadata": {},
   "outputs": [],
   "source": []
  }
 ],
 "metadata": {
  "kernelspec": {
   "display_name": "Python 3 (ipykernel)",
   "language": "python",
   "name": "python3"
  },
  "language_info": {
   "codemirror_mode": {
    "name": "ipython",
    "version": 3
   },
   "file_extension": ".py",
   "mimetype": "text/x-python",
   "name": "python",
   "nbconvert_exporter": "python",
   "pygments_lexer": "ipython3",
   "version": "3.11.7"
  }
 },
 "nbformat": 4,
 "nbformat_minor": 5
}
